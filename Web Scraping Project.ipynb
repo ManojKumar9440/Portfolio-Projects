{
 "cells": [
  {
   "cell_type": "code",
   "execution_count": 99,
   "id": "48f8865c-ce00-4aa7-b803-85c8be7c3226",
   "metadata": {},
   "outputs": [],
   "source": [
    "from bs4 import BeautifulSoup\n",
    "import requests\n",
    "url=\"https://en.wikipedia.org/wiki/List_of_largest_companies_in_the_United_States_by_revenue\"\n",
    "page=requests.get(url)\n",
    "soup=BeautifulSoup(page.text,\"html\")\n",
    "table=soup.find_all(\"table\",class_=\"wikitable sortable\")[0]\n",
    "table_header=table.find_all(\"th\")\n",
    "table_headers=[title.text.strip() for title in table_header]\n",
    "import pandas as pd\n",
    "df=pd.DataFrame(columns=table_headers)\n",
    "row_data=table.find_all(\"tr\")\n",
    "for row in row_data[1:]:\n",
    "    each_row=row.find_all(\"td\")\n",
    "    each_row_data=[data.text.strip() for data in each_row]\n",
    "    #print(each_row_data)\n",
    "    length = len(df)\n",
    "    df.loc[length] = each_row_data\n",
    "df.to_csv(r\"C:\\Users\\sirip\\OneDrive\\Documents\\Manoj Python\\companies.csv\",index=False)"
   ]
  },
  {
   "cell_type": "code",
   "execution_count": 129,
   "id": "19ae1292-7970-48c8-9054-8bf860e7ed43",
   "metadata": {},
   "outputs": [],
   "source": [
    "from bs4 import BeautifulSoup\n",
    "import requests\n",
    "url=\"https://en.wikipedia.org/wiki/List_of_largest_companies_in_the_United_States_by_revenue\"\n",
    "page=requests.get(url)\n",
    "soup=BeautifulSoup(page.text,\"html\")\n",
    "table=soup.find_all(\"table\",class_=\"wikitable sortable\")[1]\n",
    "column_header=[header.text.strip() for header in table.find_all(\"th\")]\n",
    "df=pd.DataFrame(columns=column_header)\n",
    "for data in table.find_all(\"tr\")[1:]:\n",
    "    each_row=data.find_all(\"td\")\n",
    "    each_row_data=[data.text.strip() for data in each_row]\n",
    "    #print(each_row_data)\n",
    "    length = len(df)\n",
    "    df.loc[length] = each_row_data\n",
    "df.to_csv(r\"C:\\Users\\sirip\\OneDrive\\Documents\\Manoj Python\\largest_private_companies.csv\",index=False)\n",
    "    \n"
   ]
  },
  {
   "cell_type": "code",
   "execution_count": 131,
   "id": "344b74cc-4d37-497d-ba80-f9a7d0e22a29",
   "metadata": {},
   "outputs": [],
   "source": [
    "from bs4 import BeautifulSoup\n",
    "import requests\n",
    "url=\"https://en.wikipedia.org/wiki/List_of_largest_companies_in_the_United_States_by_revenue\"\n",
    "page=requests.get(url)\n",
    "soup=BeautifulSoup(page.text,\"html\")\n",
    "table=soup.find_all(\"table\",class_=\"wikitable sortable\")[2]\n",
    "column_header=[header.text.strip() for header in table.find_all(\"th\")]\n",
    "df=pd.DataFrame(columns=column_header)\n",
    "for data in table.find_all(\"tr\")[1:]:\n",
    "    each_row=data.find_all(\"td\")\n",
    "    each_row_data=[data.text.strip() for data in each_row]\n",
    "    #print(each_row_data)\n",
    "    length = len(df)\n",
    "    df.loc[length] = each_row_data\n",
    "df.to_csv(r\"C:\\Users\\sirip\\OneDrive\\Documents\\Manoj Python\\companies_by_profit.csv\",index=False)"
   ]
  },
  {
   "cell_type": "code",
   "execution_count": 133,
   "id": "f79076cd-209e-47f6-b6a7-0b3cfe7b0a9d",
   "metadata": {},
   "outputs": [],
   "source": [
    "from bs4 import BeautifulSoup\n",
    "import requests\n",
    "url=\"https://en.wikipedia.org/wiki/List_of_largest_companies_in_the_United_States_by_revenue\"\n",
    "page=requests.get(url)\n",
    "soup=BeautifulSoup(page.text,\"html\")\n",
    "table=soup.find_all(\"table\",class_=\"wikitable sortable\")[0]\n",
    "column_header=[header.text.strip() for header in table.find_all(\"th\")]\n",
    "df=pd.DataFrame(columns=column_header)\n",
    "for data in table.find_all(\"tr\")[1:]:\n",
    "    each_row=data.find_all(\"td\")\n",
    "    each_row_data=[data.text.strip() for data in each_row]\n",
    "    #print(each_row_data)\n",
    "    length = len(df)\n",
    "    df.loc[length] = each_row_data\n",
    "df.to_csv(r\"C:\\Users\\sirip\\OneDrive\\Documents\\Manoj Python\\chockey_teams.csv\",index=False)"
   ]
  },
  {
   "cell_type": "code",
   "execution_count": null,
   "id": "883d2b19-fb49-449c-82c4-4091baf23044",
   "metadata": {},
   "outputs": [],
   "source": []
  }
 ],
 "metadata": {
  "kernelspec": {
   "display_name": "Python [conda env:base] *",
   "language": "python",
   "name": "conda-base-py"
  },
  "language_info": {
   "codemirror_mode": {
    "name": "ipython",
    "version": 3
   },
   "file_extension": ".py",
   "mimetype": "text/x-python",
   "name": "python",
   "nbconvert_exporter": "python",
   "pygments_lexer": "ipython3",
   "version": "3.12.7"
  }
 },
 "nbformat": 4,
 "nbformat_minor": 5
}
